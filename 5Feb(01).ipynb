{
 "cells": [
  {
   "cell_type": "code",
   "execution_count": null,
   "id": "876ed028-c317-4101-8293-262c607e6cb1",
   "metadata": {},
   "outputs": [],
   "source": [
    "In object-oriented programming (OOP), a class is a blueprint or template for creating objects that define a\n",
    "set of attributes (data) and methods (functions) that an object can have.\n",
    "\n",
    "An object, on the other hand, is an instance of a class. \n",
    "It is a real-world entity that has data and behavior associated with it. \n",
    "When an object is created from a class, it inherits all the attributes and methods \n",
    "defined by that class, and it can also have its own unique data and behavior.\n",
    "\n",
    "For example, consider a class called \"Car\" that defines the attributes \n",
    "and methods of a car object. An object of this class could be \"myCar,\" which \n",
    "has its own unique data such as its make, model, and color. \n",
    "\"myCar\" can also use the methods defined by the \"Car\" class, \n",
    "such as \"start\" and \"stop,\" to perform certain actions.\n",
    "\n",
    "In summary, a class is a template or blueprint for creating objects, \n",
    "while an object is an instance of a class that has its own unique data and behavior.\n",
    "\n",
    "\n",
    "\n"
   ]
  }
 ],
 "metadata": {
  "kernelspec": {
   "display_name": "Python 3 (ipykernel)",
   "language": "python",
   "name": "python3"
  },
  "language_info": {
   "codemirror_mode": {
    "name": "ipython",
    "version": 3
   },
   "file_extension": ".py",
   "mimetype": "text/x-python",
   "name": "python",
   "nbconvert_exporter": "python",
   "pygments_lexer": "ipython3",
   "version": "3.10.8"
  }
 },
 "nbformat": 4,
 "nbformat_minor": 5
}
