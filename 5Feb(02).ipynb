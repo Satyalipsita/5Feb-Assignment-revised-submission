{
 "cells": [
  {
   "cell_type": "code",
   "execution_count": null,
   "id": "50b4e924-0118-4bcf-8444-e44c394af16c",
   "metadata": {},
   "outputs": [],
   "source": [
    "The four pillars of Object-Oriented Programming (OOP) are:\n",
    "\n",
    "Encapsulation: It is the process of binding data (variables) and \n",
    "functions (methods) that operate on that data within a single unit \n",
    "or class. It is used to hide the internal workings of an object from \n",
    "the outside world and to provide a well-defined interface for the object's behavior. \n",
    "Encapsulation helps to achieve data hiding, which is an important aspect of object-oriented programming.\n",
    "\n",
    "Inheritance: It is the process by which one class can inherit the properties \n",
    "(attributes and methods) of another class. The class that inherits the properties \n",
    "is called the derived class or subclass, and the class whose properties are inherited \n",
    "is called the base class or superclass. Inheritance is used to create a hierarchy of \n",
    "classes that share common properties and behavior.\n",
    "\n",
    "Polymorphism: It is the ability of an object to take on many forms.\n",
    "In OOP, polymorphism is achieved through method overriding and method overloading. \n",
    "Method overriding is when a subclass provides a specific implementation of a \n",
    "method that is already defined in its superclass. Method overloading is when a \n",
    "class has multiple methods with the same name but different parameters.\n",
    "\n",
    "Abstraction: It is the process of hiding complex implementation details\n",
    "and presenting only the essential features of an object to the user. \n",
    "In OOP, abstraction is achieved through abstract classes and interfaces. \n",
    "An abstract class is a class that cannot be instantiated and is used to\n",
    "provide a common interface for its subclasses.\n",
    "An interface is a collection of abstract methods \n",
    "that define the behavior of a class without specifying how it is implemented. \n",
    "Abstraction helps to reduce complexity and increase maintainability in software systems."
   ]
  }
 ],
 "metadata": {
  "kernelspec": {
   "display_name": "Python 3 (ipykernel)",
   "language": "python",
   "name": "python3"
  },
  "language_info": {
   "codemirror_mode": {
    "name": "ipython",
    "version": 3
   },
   "file_extension": ".py",
   "mimetype": "text/x-python",
   "name": "python",
   "nbconvert_exporter": "python",
   "pygments_lexer": "ipython3",
   "version": "3.10.8"
  }
 },
 "nbformat": 4,
 "nbformat_minor": 5
}
