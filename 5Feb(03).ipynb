{
 "cells": [
  {
   "cell_type": "code",
   "execution_count": null,
   "id": "c02b33ef-17c2-4409-81d7-df123e800cd6",
   "metadata": {},
   "outputs": [],
   "source": [
    "Q-3:\n",
    "    __init__ is a special method or constructor in \n",
    "Python's object-oriented programming (OOP) that is automatically called \n",
    "when an object of a class is created. It is used to initialize the attributes of\n",
    "an object with the values passed as arguments.\n",
    "\n",
    "The main purpose of __init__ is to ensure that an object is \n",
    "created with the required attributes and that they are initialized to \n",
    "a specific value or state. It is also used to assign default values to \n",
    "attributes that are not passed as arguments during object creation.\n",
    "\n"
   ]
  }
 ],
 "metadata": {
  "kernelspec": {
   "display_name": "Python 3 (ipykernel)",
   "language": "python",
   "name": "python3"
  },
  "language_info": {
   "codemirror_mode": {
    "name": "ipython",
    "version": 3
   },
   "file_extension": ".py",
   "mimetype": "text/x-python",
   "name": "python",
   "nbconvert_exporter": "python",
   "pygments_lexer": "ipython3",
   "version": "3.10.8"
  }
 },
 "nbformat": 4,
 "nbformat_minor": 5
}
