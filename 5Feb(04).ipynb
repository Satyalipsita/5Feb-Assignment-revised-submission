{
 "cells": [
  {
   "cell_type": "code",
   "execution_count": null,
   "id": "19640e36-121a-4272-8577-a508d4516f95",
   "metadata": {},
   "outputs": [],
   "source": [
    "Q-4: In Python's object-oriented programming (OOP), self is a reference to the instance of the class that is being accessed. It is the first argument of every instance method in a class and is used to access the attributes and methods\n",
    "of that instance.\n",
    "\n",
    "When an object is created from a class,\n",
    "it becomes an instance of that class.\n",
    "Each instance of a class has its own set of attributes and methods.\n",
    "When an instance method is called on an object, the instance itself \n",
    "is automatically passed as the first argument, which is referred to as self.\n",
    "\n",
    "Using self allows you to access the attributes and methods of\n",
    "an instance from within an instance method. It also allows you\n",
    "to differentiate between the attributes and methods of the instance \n",
    "and the attributes and methods of the class."
   ]
  }
 ],
 "metadata": {
  "kernelspec": {
   "display_name": "Python 3 (ipykernel)",
   "language": "python",
   "name": "python3"
  },
  "language_info": {
   "codemirror_mode": {
    "name": "ipython",
    "version": 3
   },
   "file_extension": ".py",
   "mimetype": "text/x-python",
   "name": "python",
   "nbconvert_exporter": "python",
   "pygments_lexer": "ipython3",
   "version": "3.10.8"
  }
 },
 "nbformat": 4,
 "nbformat_minor": 5
}
