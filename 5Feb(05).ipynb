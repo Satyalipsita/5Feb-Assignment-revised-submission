{
 "cells": [
  {
   "cell_type": "code",
   "execution_count": null,
   "id": "4e1d273a-263a-473b-8833-78811078280c",
   "metadata": {},
   "outputs": [],
   "source": [
    "Inheritance is one of the four pillars of object-oriented programming (OOP) \n",
    "that allows a new class to be based on an existing class, inheriting \n",
    "its properties and methods. The existing class is called the parent \n",
    "class or superclass, and the new class is called the child class or subclass.\n",
    "\n",
    "The child class can access the properties and methods of the parent \n",
    "class, and it can also add new properties and methods of its own. \n",
    "This allows for code reuse and helps to organize code into a hierarchy of related classes.\n",
    "\n",
    "There are different types of inheritance in OOP, including:\n",
    "\n",
    "1-Single inheritance: A child class inherits properties and methods from a single parent class.\n",
    "\n",
    "2-Multiple inheritance: A child class inherits properties and methods from multiple parent classes.\n",
    "\n",
    "3-Multi-level inheritance: A child class inherits properties and methods from a parent class,\n",
    "which in turn inherits properties and methods from its own parent class, and so on.\n",
    "\n",
    "4-Hierarchical inheritance: Multiple child classes inherit properties and methods\n",
    "from a single parent class.\n",
    "\n",
    "5-Hybrid inheritance: A combination of two or more types of inheritance"
   ]
  }
 ],
 "metadata": {
  "kernelspec": {
   "display_name": "Python 3 (ipykernel)",
   "language": "python",
   "name": "python3"
  },
  "language_info": {
   "codemirror_mode": {
    "name": "ipython",
    "version": 3
   },
   "file_extension": ".py",
   "mimetype": "text/x-python",
   "name": "python",
   "nbconvert_exporter": "python",
   "pygments_lexer": "ipython3",
   "version": "3.10.8"
  }
 },
 "nbformat": 4,
 "nbformat_minor": 5
}
